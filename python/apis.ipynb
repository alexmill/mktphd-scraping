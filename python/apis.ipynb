{
 "cells": [
  {
   "cell_type": "markdown",
   "metadata": {},
   "source": [
    "# Working with REST APIs"
   ]
  },
  {
   "cell_type": "code",
   "execution_count": 3,
   "metadata": {},
   "outputs": [
    {
     "name": "stdout",
     "output_type": "stream",
     "text": [
      "https://en.wikipedia.org/w/api.php?format=json&action=query&prop=extracts&exintro=&explaintext=&redirects=1&titles=Barack+Obama\n"
     ]
    }
   ],
   "source": [
    "import requests # if you haven't imported it already\n",
    "from urllib.parse import urlencode\n",
    "\n",
    "base_url = \"https://en.wikipedia.org/w/api.php?\"\n",
    "data= {\n",
    "    \"format\": \"json\",\n",
    "    \"action\": \"query\",\n",
    "    \"prop\": \"extracts\",\n",
    "    \"exintro\": \"\",\n",
    "    \"explaintext\": \"\",\n",
    "    \"redirects\": 1,\n",
    "    \"titles\": \"Barack Obama\"\n",
    "}\n",
    "\n",
    "\n",
    "# urlencode converts a Python dict into a URL query string\n",
    "params = urlencode(data)\n",
    "full_url = base_url + params\n",
    "print(full_url)\n"
   ]
  },
  {
   "cell_type": "code",
   "execution_count": null,
   "metadata": {},
   "outputs": [],
   "source": [
    "r = requests.get(full_url)\n",
    "\n",
    "# If your response is returned in JSON format, you can get the JSON data\n",
    "# as a dictionary in Python by just using the .json method on your request object\n",
    "\n",
    "# Determine the type of data you recieved:\n",
    "print(r.headers[\"Content-Type\"])"
   ]
  },
  {
   "cell_type": "code",
   "execution_count": null,
   "metadata": {},
   "outputs": [],
   "source": [
    "# Extract the JSON results\n",
    "results = r.json()"
   ]
  },
  {
   "cell_type": "code",
   "execution_count": null,
   "metadata": {},
   "outputs": [],
   "source": [
    "# Manipulate the JSON data as a regular Python dictionary.\n",
    "# Print keys available to you:\n",
    "results.keys()"
   ]
  },
  {
   "cell_type": "code",
   "execution_count": null,
   "metadata": {},
   "outputs": [],
   "source": [
    "# Print the raw dictionary\n",
    "print(results)"
   ]
  },
  {
   "cell_type": "code",
   "execution_count": null,
   "metadata": {},
   "outputs": [],
   "source": [
    "# When working with nested data, it can be useful to use the \"pretty print\"\n",
    "# function in Python:\n",
    "from pprint import pprint\n",
    "pprint(results)"
   ]
  },
  {
   "cell_type": "code",
   "execution_count": null,
   "metadata": {},
   "outputs": [],
   "source": [
    "# Get the plain-text summary:\n",
    "summary = list(results[\"query\"][\"pages\"].values())[0][\"extract\"]\n",
    "print(summary)"
   ]
  },
  {
   "cell_type": "code",
   "execution_count": null,
   "metadata": {},
   "outputs": [],
   "source": [
    "# Save the raw data using the json module\n",
    "import json\n",
    "with open(\"my_first_json.json\", \"w+\") as f:\n",
    "  json.dump(results, f)\n",
    "\n",
    "# Open the file \"my_first_json.json\" in a plain-text editor\n",
    "# to see your results."
   ]
  },
  {
   "cell_type": "code",
   "execution_count": null,
   "metadata": {},
   "outputs": [],
   "source": []
  },
  {
   "cell_type": "markdown",
   "metadata": {},
   "source": [
    "# Using language specific APIs"
   ]
  },
  {
   "cell_type": "code",
   "execution_count": null,
   "metadata": {},
   "outputs": [],
   "source": [
    "!pip install wikipedia"
   ]
  },
  {
   "cell_type": "code",
   "execution_count": null,
   "metadata": {},
   "outputs": [],
   "source": [
    "import wikipedia\n",
    "\n",
    "# Test out some basic commands\n",
    "wikipedia.search(\"Barack\")"
   ]
  },
  {
   "cell_type": "code",
   "execution_count": null,
   "metadata": {},
   "outputs": [],
   "source": [
    "# get summary of \"GitHub\" page from wiki using python api:\n",
    "wikipedia.page(title=\"GitHub\", auto_suggest=False).summary"
   ]
  },
  {
   "cell_type": "code",
   "execution_count": null,
   "metadata": {},
   "outputs": [],
   "source": []
  },
  {
   "cell_type": "code",
   "execution_count": null,
   "metadata": {},
   "outputs": [],
   "source": []
  }
 ],
 "metadata": {
  "kernelspec": {
   "display_name": "Python 3 (ipykernel)",
   "language": "python",
   "name": "python3"
  },
  "language_info": {
   "codemirror_mode": {
    "name": "ipython",
    "version": 3
   },
   "file_extension": ".py",
   "mimetype": "text/x-python",
   "name": "python",
   "nbconvert_exporter": "python",
   "pygments_lexer": "ipython3",
   "version": "3.10.11"
  }
 },
 "nbformat": 4,
 "nbformat_minor": 2
}
