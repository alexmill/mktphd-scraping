{
 "cells": [
  {
   "cell_type": "code",
   "execution_count": 1,
   "metadata": {},
   "outputs": [],
   "source": [
    "from datetime import datetime\n",
    "import pandas as pd\n",
    "from bs4 import BeautifulSoup\n",
    "from helpers import normalize_filename, fetch"
   ]
  },
  {
   "cell_type": "markdown",
   "metadata": {},
   "source": [
    "## Good techniques for organizing your scraped data\n",
    "\n",
    "- Cache your content when fetching it\n",
    "- Minimize the number of requests you make\n",
    "- Use a deterministic file naming scheme or database "
   ]
  },
  {
   "cell_type": "code",
   "execution_count": null,
   "metadata": {},
   "outputs": [],
   "source": []
  },
  {
   "cell_type": "code",
   "execution_count": 2,
   "metadata": {},
   "outputs": [],
   "source": [
    "url = 'https://en.wikipedia.org/wiki/Estimation_of_covariance_matrices'"
   ]
  },
  {
   "cell_type": "code",
   "execution_count": 3,
   "metadata": {},
   "outputs": [
    {
     "data": {
      "text/plain": [
       "'enwikipediaorg_wiki_Estimation_of_covari_d276bab9-20231103.html'"
      ]
     },
     "execution_count": 3,
     "metadata": {},
     "output_type": "execute_result"
    }
   ],
   "source": [
    "normalize_filename(url)"
   ]
  },
  {
   "cell_type": "code",
   "execution_count": 5,
   "metadata": {},
   "outputs": [
    {
     "name": "stdout",
     "output_type": "stream",
     "text": [
      "Using cached version of https://en.wikipedia.org/wiki/Estimation_of_covariance_matrices\n"
     ]
    }
   ],
   "source": [
    "html = fetch(url)"
   ]
  },
  {
   "cell_type": "code",
   "execution_count": null,
   "metadata": {},
   "outputs": [],
   "source": []
  },
  {
   "cell_type": "code",
   "execution_count": 8,
   "metadata": {},
   "outputs": [
    {
     "name": "stdout",
     "output_type": "stream",
     "text": [
      "Using cached version of https://brickset.com/sets/30496-1/U-Wing-Fighter\n"
     ]
    }
   ],
   "source": [
    "# Get the HTML content of the page\n",
    "url = 'https://brickset.com/sets/30496-1/U-Wing-Fighter'\n",
    "page = fetch(url)"
   ]
  },
  {
   "cell_type": "code",
   "execution_count": 9,
   "metadata": {},
   "outputs": [],
   "source": [
    "soup = BeautifulSoup(page, 'html.parser')"
   ]
  },
  {
   "cell_type": "markdown",
   "metadata": {},
   "source": [
    "## Basic CSS selectors\n",
    "\n",
    "describe basic selectors and their properties\n",
    "\n",
    "#### tag selector: `{tag_name}`: used to specify **all elements of the same type**\n",
    "\n",
    "- Example: `p` will select all paragraphs in the document.\n",
    "\n",
    "#### id selector: `#{id_name}`: used to specify a **single, unique element**.\n",
    "- Example: `#username` will select the element with `id=\"username\"`.\n",
    "\n",
    "#### class selector: `.{class_name}`: used to specify  **one or more elements of the same class**.\n",
    "- Example: `.important` will select all elements with `class=\"important\"`.\n",
    "\n",
    "#### attribute selector: `[attribute_name]`: used to specify **one or more elements with the same attribute**.\n",
    "- Example: `[href]` will select all elements with an `href` attribute.\n",
    "\n",
    "#### attribute value selector: `[attribute_name=\"value\"]`: used to specify **one or more elements with the same attribute value**.\n",
    "- Example: `[href=\"https://www.google.com\"]` will select all elements with `href=\"https://www.google.com\"`.\n",
    "\n",
    "\n"
   ]
  },
  {
   "cell_type": "code",
   "execution_count": 13,
   "metadata": {},
   "outputs": [
    {
     "data": {
      "text/plain": [
       "'30496: U-wing Fighter'"
      ]
     },
     "execution_count": 13,
     "metadata": {},
     "output_type": "execute_result"
    }
   ],
   "source": [
    "soup.find_all('h1')[0].get_text().strip()"
   ]
  },
  {
   "cell_type": "code",
   "execution_count": null,
   "metadata": {},
   "outputs": [],
   "source": [
    "'.featurebox dl dt'"
   ]
  },
  {
   "cell_type": "code",
   "execution_count": 10,
   "metadata": {},
   "outputs": [
    {
     "data": {
      "text/plain": [
       "[<section class=\"featurebox\"><h2>Details</h2><div class=\"text\">\n",
       " <dl>\n",
       " <dt>Number</dt>\n",
       " <dd>30496-1</dd>\n",
       " <dt>Name</dt>\n",
       " <dd>U-wing Fighter</dd>\n",
       " <dt>Type</dt>\n",
       " <dd>Normal</dd>\n",
       " <dt>Theme group</dt>\n",
       " <dd>Licensed</dd>\n",
       " <dt>Theme</dt>\n",
       " <dd><a href=\"/sets/theme-Star-Wars\">Star Wars</a></dd>\n",
       " <dt>Subtheme</dt>\n",
       " <dd><a href=\"/sets/subtheme-Rogue-One\">Rogue One</a></dd>\n",
       " <dt>Year released</dt>\n",
       " <dd><a href=\"/sets/theme-Star-Wars/year-2017\">2017</a></dd>\n",
       " <dt>Launch/exit</dt>\n",
       " <dd>01 Jan 17 - 31 Dec 18</dd>\n",
       " <dt>Tags</dt>\n",
       " <dd><div class=\"viewtags\"><a class=\"plain\" href=\"#\">View tags »</a></div><div id=\"tags26907\"><a href=\"/sets/tag-Disney\">Disney</a><br/><a href=\"/sets/tag-Microscale\">Microscale</a><br/><a href=\"/sets/tag-Polybag\">Polybag</a><br/><a href=\"/sets/tag-Rebel-Alliance\">Rebel Alliance</a><br/><a href=\"/sets/tag-Rogue-One\">Rogue One</a><br/><a href=\"/sets/tag-Star-Wars-Anthology\">Star Wars Anthology</a><br/><a href=\"/sets/tag-Starfighter\">Starfighter</a><br/><a href=\"/sets/tag-Transport-Vehicle\">Transport Vehicle</a><br/><a href=\"/sets/tag-Ut-60D-U-Wing-Troop-Transport\">Ut-60D U-Wing Troop Transport</a> </div></dd>\n",
       " <dt>Pieces</dt>\n",
       " <dd><a class=\"plain\" href=\"/inventories/30496-1\">55</a></dd>\n",
       " <dt>RRP</dt>\n",
       " <dd>$3.99</dd>\n",
       " <dt>Current value</dt>\n",
       " <dd>\n",
       " New: <a class=\"plain\" href=\"http://www.bricklink.com/v2/catalog/catalogitem.page?S=30496-1#T=P\">~$5</a><br/>\n",
       " Used: <a class=\"plain\" href=\"http://www.bricklink.com/v2/catalog/catalogitem.page?S=30496-1#T=P\">~$3</a>\n",
       " </dd>\n",
       " <dt>Price per piece</dt>\n",
       " <dd>7.3c</dd>\n",
       " <dt>Age range</dt>\n",
       " <dd>6 - 12</dd>\n",
       " <dt>Packaging</dt>\n",
       " <dd>Polybag</dd>\n",
       " <dt>Dimensions</dt>\n",
       " <dd>17 x 17 x 0.8 cm <br/>(6.7 x 6.7 x 0.3 in)</dd>\n",
       " <dt>Barcodes</dt>\n",
       " <dd>UPC: 673419268806<br/>EAN: 5702015877039</dd>\n",
       " <dt>LEGO item numbers</dt>\n",
       " <dd>NA: 6176989<br/>EU: 6176988</dd>\n",
       " <dt>Notes</dt>\n",
       " <dd>[US] Available in Walmart, May 2017.<br/>[NO] Free with Donald Duck and Co. comic, May 2017.<br/>[BE] Free with qualifying spend in Maxi Toys, June 2016.<br/>[ES] Free with qualifying spend in Carrefour, September 2017.<br/>Might be in <a href=\"/sets/5005704-1\">5005704-1</a> </dd>\n",
       " <dt>Rating</dt>\n",
       " <dd><span class=\"rating\"><span class=\"full\">✭</span><span class=\"full\">✭</span><span class=\"full\">✭</span><span class=\"half\">✭</span><span class=\"empty\">✩</span> 3.6</span> <br/><a class=\"popuplink plain\" href=\"ratings?set=30496-1\">221 ratings</a>, <a class=\"plain\" href=\"/reviews/set-30496-1\">2 reviews</a><br/> <a class=\"plain\" href=\"/article/27922\">Brickset review</a></dd>\n",
       " </dl>\n",
       " </div></section>,\n",
       " <section class=\"featurebox bricklink\"><h2><img src=\"/assets/images/misc/bricklink.png\"/></h2><div class=\"text\">\n",
       " <div id=\"brickLinkOutput\"></div>\n",
       " </div></section>,\n",
       " <section class=\"featurebox wickedBrick\"><h2><img alt=\"Wicked Brick\" src=\"/assets/images/misc/wickedbrick.png\"/></h2><div class=\"text\">\n",
       " <div id=\"wickedBrickOutput\"></div>\n",
       " </div></section>,\n",
       " <section class=\"featurebox rebrickable\"><h2><img alt=\"Rebrickable\" src=\"/assets/images/misc/rebrickable.gif\"/></h2><div class=\"text\">\n",
       " <div id=\"rebrickableOutput\"></div>\n",
       " </div></section>]"
      ]
     },
     "execution_count": 10,
     "metadata": {},
     "output_type": "execute_result"
    }
   ],
   "source": [
    "soup.find_all(attrs={'class': 'featurebox'})"
   ]
  },
  {
   "cell_type": "code",
   "execution_count": 14,
   "metadata": {},
   "outputs": [],
   "source": [
    "# Locate the feature box and the description list within it\n",
    "feature_box = soup.select_one(\".featurebox .text dl\")"
   ]
  },
  {
   "cell_type": "code",
   "execution_count": 15,
   "metadata": {},
   "outputs": [
    {
     "data": {
      "text/plain": [
       "<dl>\n",
       "<dt>Number</dt>\n",
       "<dd>30496-1</dd>\n",
       "<dt>Name</dt>\n",
       "<dd>U-wing Fighter</dd>\n",
       "<dt>Type</dt>\n",
       "<dd>Normal</dd>\n",
       "<dt>Theme group</dt>\n",
       "<dd>Licensed</dd>\n",
       "<dt>Theme</dt>\n",
       "<dd><a href=\"/sets/theme-Star-Wars\">Star Wars</a></dd>\n",
       "<dt>Subtheme</dt>\n",
       "<dd><a href=\"/sets/subtheme-Rogue-One\">Rogue One</a></dd>\n",
       "<dt>Year released</dt>\n",
       "<dd><a href=\"/sets/theme-Star-Wars/year-2017\">2017</a></dd>\n",
       "<dt>Launch/exit</dt>\n",
       "<dd>01 Jan 17 - 31 Dec 18</dd>\n",
       "<dt>Tags</dt>\n",
       "<dd><div class=\"viewtags\"><a class=\"plain\" href=\"#\">View tags »</a></div><div id=\"tags26907\"><a href=\"/sets/tag-Disney\">Disney</a><br/><a href=\"/sets/tag-Microscale\">Microscale</a><br/><a href=\"/sets/tag-Polybag\">Polybag</a><br/><a href=\"/sets/tag-Rebel-Alliance\">Rebel Alliance</a><br/><a href=\"/sets/tag-Rogue-One\">Rogue One</a><br/><a href=\"/sets/tag-Star-Wars-Anthology\">Star Wars Anthology</a><br/><a href=\"/sets/tag-Starfighter\">Starfighter</a><br/><a href=\"/sets/tag-Transport-Vehicle\">Transport Vehicle</a><br/><a href=\"/sets/tag-Ut-60D-U-Wing-Troop-Transport\">Ut-60D U-Wing Troop Transport</a> </div></dd>\n",
       "<dt>Pieces</dt>\n",
       "<dd><a class=\"plain\" href=\"/inventories/30496-1\">55</a></dd>\n",
       "<dt>RRP</dt>\n",
       "<dd>$3.99</dd>\n",
       "<dt>Current value</dt>\n",
       "<dd>\n",
       "New: <a class=\"plain\" href=\"http://www.bricklink.com/v2/catalog/catalogitem.page?S=30496-1#T=P\">~$5</a><br/>\n",
       "Used: <a class=\"plain\" href=\"http://www.bricklink.com/v2/catalog/catalogitem.page?S=30496-1#T=P\">~$3</a>\n",
       "</dd>\n",
       "<dt>Price per piece</dt>\n",
       "<dd>7.3c</dd>\n",
       "<dt>Age range</dt>\n",
       "<dd>6 - 12</dd>\n",
       "<dt>Packaging</dt>\n",
       "<dd>Polybag</dd>\n",
       "<dt>Dimensions</dt>\n",
       "<dd>17 x 17 x 0.8 cm <br/>(6.7 x 6.7 x 0.3 in)</dd>\n",
       "<dt>Barcodes</dt>\n",
       "<dd>UPC: 673419268806<br/>EAN: 5702015877039</dd>\n",
       "<dt>LEGO item numbers</dt>\n",
       "<dd>NA: 6176989<br/>EU: 6176988</dd>\n",
       "<dt>Notes</dt>\n",
       "<dd>[US] Available in Walmart, May 2017.<br/>[NO] Free with Donald Duck and Co. comic, May 2017.<br/>[BE] Free with qualifying spend in Maxi Toys, June 2016.<br/>[ES] Free with qualifying spend in Carrefour, September 2017.<br/>Might be in <a href=\"/sets/5005704-1\">5005704-1</a> </dd>\n",
       "<dt>Rating</dt>\n",
       "<dd><span class=\"rating\"><span class=\"full\">✭</span><span class=\"full\">✭</span><span class=\"full\">✭</span><span class=\"half\">✭</span><span class=\"empty\">✩</span> 3.6</span> <br/><a class=\"popuplink plain\" href=\"ratings?set=30496-1\">221 ratings</a>, <a class=\"plain\" href=\"/reviews/set-30496-1\">2 reviews</a><br/> <a class=\"plain\" href=\"/article/27922\">Brickset review</a></dd>\n",
       "</dl>"
      ]
     },
     "execution_count": 15,
     "metadata": {},
     "output_type": "execute_result"
    }
   ],
   "source": [
    "feature_box"
   ]
  },
  {
   "cell_type": "code",
   "execution_count": 16,
   "metadata": {},
   "outputs": [
    {
     "name": "stdout",
     "output_type": "stream",
     "text": [
      "{'Number': '30496-1', 'Name': 'U-wing Fighter', 'Type': 'Normal', 'Theme group': 'Licensed', 'Theme': 'Star Wars', 'Subtheme': 'Rogue One', 'Year released': '2017', 'Launch/exit': '01 Jan 17 - 31 Dec 18', 'Tags': 'View tags »DisneyMicroscalePolybagRebel AllianceRogue OneStar Wars AnthologyStarfighterTransport VehicleUt-60D U-Wing Troop Transport', 'Pieces': '55', 'RRP': '$3.99', 'Current value': 'New: ~$5\\nUsed: ~$3', 'Price per piece': '7.3c', 'Age range': '6 - 12', 'Packaging': 'Polybag', 'Dimensions': '17 x 17 x 0.8 cm (6.7 x 6.7 x 0.3 in)', 'Barcodes': 'UPC: 673419268806EAN: 5702015877039', 'LEGO item numbers': 'NA: 6176989EU: 6176988', 'Notes': '[US] Available in Walmart, May 2017.[NO] Free with Donald Duck and Co. comic, May 2017.[BE] Free with qualifying spend in Maxi Toys, June 2016.[ES] Free with qualifying spend in Carrefour, September 2017.Might be in 5005704-1', 'Rating': '✭✭✭✭✩ 3.6 221 ratings, 2\\xa0reviews Brickset review'}\n"
     ]
    }
   ],
   "source": [
    "# Extract the 'dt' and 'dd' elements\n",
    "dt_elements = feature_box.find_all('dt')\n",
    "dd_elements = feature_box.find_all('dd')\n",
    "\n",
    "# Use list comprehension to extract text from elements\n",
    "data = {dt.text.strip(): dd.text.strip() for dt, dd in zip(dt_elements, dd_elements)}\n",
    "\n",
    "# Display the data\n",
    "print(data)\n"
   ]
  },
  {
   "cell_type": "code",
   "execution_count": 17,
   "metadata": {},
   "outputs": [
    {
     "data": {
      "text/html": [
       "<div>\n",
       "<style scoped>\n",
       "    .dataframe tbody tr th:only-of-type {\n",
       "        vertical-align: middle;\n",
       "    }\n",
       "\n",
       "    .dataframe tbody tr th {\n",
       "        vertical-align: top;\n",
       "    }\n",
       "\n",
       "    .dataframe thead th {\n",
       "        text-align: right;\n",
       "    }\n",
       "</style>\n",
       "<table border=\"1\" class=\"dataframe\">\n",
       "  <thead>\n",
       "    <tr style=\"text-align: right;\">\n",
       "      <th></th>\n",
       "      <th>0</th>\n",
       "    </tr>\n",
       "  </thead>\n",
       "  <tbody>\n",
       "    <tr>\n",
       "      <th>Number</th>\n",
       "      <td>30496-1</td>\n",
       "    </tr>\n",
       "    <tr>\n",
       "      <th>Name</th>\n",
       "      <td>U-wing Fighter</td>\n",
       "    </tr>\n",
       "    <tr>\n",
       "      <th>Type</th>\n",
       "      <td>Normal</td>\n",
       "    </tr>\n",
       "    <tr>\n",
       "      <th>Theme group</th>\n",
       "      <td>Licensed</td>\n",
       "    </tr>\n",
       "    <tr>\n",
       "      <th>Theme</th>\n",
       "      <td>Star Wars</td>\n",
       "    </tr>\n",
       "    <tr>\n",
       "      <th>Subtheme</th>\n",
       "      <td>Rogue One</td>\n",
       "    </tr>\n",
       "    <tr>\n",
       "      <th>Year released</th>\n",
       "      <td>2017</td>\n",
       "    </tr>\n",
       "    <tr>\n",
       "      <th>Launch/exit</th>\n",
       "      <td>01 Jan 17 - 31 Dec 18</td>\n",
       "    </tr>\n",
       "    <tr>\n",
       "      <th>Tags</th>\n",
       "      <td>View tags »DisneyMicroscalePolybagRebel Allian...</td>\n",
       "    </tr>\n",
       "    <tr>\n",
       "      <th>Pieces</th>\n",
       "      <td>55</td>\n",
       "    </tr>\n",
       "    <tr>\n",
       "      <th>RRP</th>\n",
       "      <td>$3.99</td>\n",
       "    </tr>\n",
       "    <tr>\n",
       "      <th>Current value</th>\n",
       "      <td>New: ~$5\\nUsed: ~$3</td>\n",
       "    </tr>\n",
       "    <tr>\n",
       "      <th>Price per piece</th>\n",
       "      <td>7.3c</td>\n",
       "    </tr>\n",
       "    <tr>\n",
       "      <th>Age range</th>\n",
       "      <td>6 - 12</td>\n",
       "    </tr>\n",
       "    <tr>\n",
       "      <th>Packaging</th>\n",
       "      <td>Polybag</td>\n",
       "    </tr>\n",
       "    <tr>\n",
       "      <th>Dimensions</th>\n",
       "      <td>17 x 17 x 0.8 cm (6.7 x 6.7 x 0.3 in)</td>\n",
       "    </tr>\n",
       "    <tr>\n",
       "      <th>Barcodes</th>\n",
       "      <td>UPC: 673419268806EAN: 5702015877039</td>\n",
       "    </tr>\n",
       "    <tr>\n",
       "      <th>LEGO item numbers</th>\n",
       "      <td>NA: 6176989EU: 6176988</td>\n",
       "    </tr>\n",
       "    <tr>\n",
       "      <th>Notes</th>\n",
       "      <td>[US] Available in Walmart, May 2017.[NO] Free ...</td>\n",
       "    </tr>\n",
       "    <tr>\n",
       "      <th>Rating</th>\n",
       "      <td>✭✭✭✭✩ 3.6 221 ratings, 2 reviews Brickset review</td>\n",
       "    </tr>\n",
       "  </tbody>\n",
       "</table>\n",
       "</div>"
      ],
      "text/plain": [
       "                                                                   0\n",
       "Number                                                       30496-1\n",
       "Name                                                  U-wing Fighter\n",
       "Type                                                          Normal\n",
       "Theme group                                                 Licensed\n",
       "Theme                                                      Star Wars\n",
       "Subtheme                                                   Rogue One\n",
       "Year released                                                   2017\n",
       "Launch/exit                                    01 Jan 17 - 31 Dec 18\n",
       "Tags               View tags »DisneyMicroscalePolybagRebel Allian...\n",
       "Pieces                                                            55\n",
       "RRP                                                            $3.99\n",
       "Current value                                    New: ~$5\\nUsed: ~$3\n",
       "Price per piece                                                 7.3c\n",
       "Age range                                                     6 - 12\n",
       "Packaging                                                    Polybag\n",
       "Dimensions                     17 x 17 x 0.8 cm (6.7 x 6.7 x 0.3 in)\n",
       "Barcodes                         UPC: 673419268806EAN: 5702015877039\n",
       "LEGO item numbers                             NA: 6176989EU: 6176988\n",
       "Notes              [US] Available in Walmart, May 2017.[NO] Free ...\n",
       "Rating              ✭✭✭✭✩ 3.6 221 ratings, 2 reviews Brickset review"
      ]
     },
     "execution_count": 17,
     "metadata": {},
     "output_type": "execute_result"
    }
   ],
   "source": [
    "pd.Series(data).to_frame()"
   ]
  },
  {
   "cell_type": "code",
   "execution_count": null,
   "metadata": {},
   "outputs": [],
   "source": []
  }
 ],
 "metadata": {
  "kernelspec": {
   "display_name": "Python 3 (ipykernel)",
   "language": "python",
   "name": "python3"
  }
 },
 "nbformat": 4,
 "nbformat_minor": 2
}
