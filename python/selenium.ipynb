{
 "cells": [
  {
   "cell_type": "code",
   "execution_count": 1,
   "id": "2e06d4b9-e375-4d94-a3a9-9bfa251cdb56",
   "metadata": {},
   "outputs": [],
   "source": [
    "from selenium import webdriver\n",
    "from selenium.webdriver.chrome.options import Options\n",
    "from selenium.webdriver.common.by import By\n",
    "\n",
    "# By.TAG_NAME\n",
    "# By.ID: To find elements by their ID.\n",
    "# By.NAME: To find elements by their name attribute.\n",
    "# By.XPATH: To find elements using an XPath expression.\n",
    "# By.CSS_SELECTOR: To find elements using a CSS selector.\n",
    "# By.CLASS_NAME: To find elements by their class name.\n",
    "# By.LINK_TEXT: To find links by their text."
   ]
  },
  {
   "cell_type": "code",
   "execution_count": 2,
   "id": "1dd5d287-3a8e-4f92-8c62-e8b53698d4c1",
   "metadata": {},
   "outputs": [],
   "source": [
    "# Set up Chrome options\n",
    "chrome_options = Options()\n",
    "chrome_options.add_argument('--no-sandbox')\n",
    "chrome_options.add_argument('--disable-dev-shm-usage')\n",
    "\n",
    "# Connect to Selenium Chrome running in another container\n",
    "driver = webdriver.Remote(\n",
    "    command_executor='http://selenium-chrome:4444/wd/hub',\n",
    "    options=chrome_options\n",
    ")"
   ]
  },
  {
   "cell_type": "code",
   "execution_count": 3,
   "id": "5495637d-7984-4127-b380-1075846c940f",
   "metadata": {},
   "outputs": [],
   "source": [
    "# find search box and enter search query\n",
    "driver.get('https://www.google.com/')\n"
   ]
  },
  {
   "cell_type": "code",
   "execution_count": 4,
   "metadata": {},
   "outputs": [],
   "source": [
    "search_box = driver.find_element(By.NAME, 'q')"
   ]
  },
  {
   "cell_type": "code",
   "execution_count": 5,
   "metadata": {},
   "outputs": [],
   "source": [
    "# enter search query\n",
    "search_box.send_keys('selenium python')\n"
   ]
  },
  {
   "cell_type": "code",
   "execution_count": 6,
   "metadata": {},
   "outputs": [],
   "source": [
    "search_box.submit()"
   ]
  },
  {
   "cell_type": "code",
   "execution_count": 7,
   "id": "c6c2c515",
   "metadata": {},
   "outputs": [],
   "source": [
    "driver.get(\"https://en.wikipedia.org/wiki/44th_Chess_Olympiad\")"
   ]
  },
  {
   "cell_type": "code",
   "execution_count": 8,
   "id": "ffa35b81",
   "metadata": {},
   "outputs": [
    {
     "data": {
      "text/plain": [
       "'Chennai'"
      ]
     },
     "execution_count": 8,
     "metadata": {},
     "output_type": "execute_result"
    }
   ],
   "source": [
    "link_element = driver.find_element(By.LINK_TEXT, \"Chennai\")\n",
    "link_element.text"
   ]
  },
  {
   "cell_type": "code",
   "execution_count": 9,
   "id": "69901882",
   "metadata": {},
   "outputs": [
    {
     "data": {
      "text/plain": [
       "{'x': 836, 'y': 875}"
      ]
     },
     "execution_count": 9,
     "metadata": {},
     "output_type": "execute_result"
    }
   ],
   "source": [
    "link_element.location"
   ]
  },
  {
   "cell_type": "code",
   "execution_count": 10,
   "id": "2c94719a-be78-4024-9ebb-230951b66ae7",
   "metadata": {},
   "outputs": [],
   "source": [
    "link_element.click()"
   ]
  },
  {
   "cell_type": "code",
   "execution_count": 11,
   "id": "898b0966-af85-4406-85e5-d86f686d3b24",
   "metadata": {},
   "outputs": [],
   "source": [
    "driver.back()"
   ]
  },
  {
   "cell_type": "code",
   "execution_count": 12,
   "id": "7dd8f44d",
   "metadata": {},
   "outputs": [
    {
     "data": {
      "text/plain": [
       "11"
      ]
     },
     "execution_count": 12,
     "metadata": {},
     "output_type": "execute_result"
    }
   ],
   "source": [
    "# find all tables on the page\n",
    "tables = driver.find_elements(By.TAG_NAME, \"table\")\n",
    "len(tables)"
   ]
  },
  {
   "cell_type": "code",
   "execution_count": 13,
   "metadata": {},
   "outputs": [],
   "source": [
    "table_html = tables[6].get_attribute('outerHTML')"
   ]
  },
  {
   "cell_type": "code",
   "execution_count": 14,
   "id": "1dfdd36f-4c73-4138-87fd-09ec4ddf5efa",
   "metadata": {},
   "outputs": [],
   "source": [
    "from io import StringIO\n",
    "import pandas as pd\n",
    "table_df = pd.read_html(StringIO(table_html))[0]"
   ]
  },
  {
   "cell_type": "code",
   "execution_count": 15,
   "metadata": {},
   "outputs": [
    {
     "data": {
      "text/html": [
       "<div>\n",
       "<style scoped>\n",
       "    .dataframe tbody tr th:only-of-type {\n",
       "        vertical-align: middle;\n",
       "    }\n",
       "\n",
       "    .dataframe tbody tr th {\n",
       "        vertical-align: top;\n",
       "    }\n",
       "\n",
       "    .dataframe thead th {\n",
       "        text-align: right;\n",
       "    }\n",
       "</style>\n",
       "<table border=\"1\" class=\"dataframe\">\n",
       "  <thead>\n",
       "    <tr style=\"text-align: right;\">\n",
       "      <th></th>\n",
       "      <th>#</th>\n",
       "      <th>Country</th>\n",
       "      <th>Players</th>\n",
       "      <th>Average rating</th>\n",
       "      <th>MP</th>\n",
       "      <th>dSB‡</th>\n",
       "    </tr>\n",
       "  </thead>\n",
       "  <tbody>\n",
       "    <tr>\n",
       "      <th>0</th>\n",
       "      <td>NaN</td>\n",
       "      <td>Ukraine</td>\n",
       "      <td>M. Muzychuk, A. Muzychuk, Ushenina, Buksa, Osmak</td>\n",
       "      <td>2478</td>\n",
       "      <td>18</td>\n",
       "      <td>413.5</td>\n",
       "    </tr>\n",
       "    <tr>\n",
       "      <th>1</th>\n",
       "      <td>NaN</td>\n",
       "      <td>Georgia</td>\n",
       "      <td>Dzagnidze, Batsiashvili, Javakhishvili, Melia,...</td>\n",
       "      <td>2475</td>\n",
       "      <td>18</td>\n",
       "      <td>392.0</td>\n",
       "    </tr>\n",
       "    <tr>\n",
       "      <th>2</th>\n",
       "      <td>NaN</td>\n",
       "      <td>India</td>\n",
       "      <td>Humpy, Harika, Vaishali, Sachdev, Kulkarni</td>\n",
       "      <td>2486</td>\n",
       "      <td>17</td>\n",
       "      <td>396.5</td>\n",
       "    </tr>\n",
       "    <tr>\n",
       "      <th>3</th>\n",
       "      <td>4.0</td>\n",
       "      <td>United States</td>\n",
       "      <td>Tokhirjonova, Krush, Yip, Zatonskih, Abrahamyan</td>\n",
       "      <td>2390</td>\n",
       "      <td>17</td>\n",
       "      <td>390.0</td>\n",
       "    </tr>\n",
       "    <tr>\n",
       "      <th>4</th>\n",
       "      <td>5.0</td>\n",
       "      <td>Kazakhstan</td>\n",
       "      <td>Abdumalik, Assaubayeva, Balabayeva, Nakhbayeva...</td>\n",
       "      <td>2365</td>\n",
       "      <td>17</td>\n",
       "      <td>352.0</td>\n",
       "    </tr>\n",
       "    <tr>\n",
       "      <th>5</th>\n",
       "      <td>6.0</td>\n",
       "      <td>Poland</td>\n",
       "      <td>Kashlinskaya, Soćko, Kiołbasa, Malicka, Rudzińska</td>\n",
       "      <td>2423</td>\n",
       "      <td>16</td>\n",
       "      <td>396.0</td>\n",
       "    </tr>\n",
       "    <tr>\n",
       "      <th>6</th>\n",
       "      <td>7.0</td>\n",
       "      <td>Azerbaijan</td>\n",
       "      <td>Mammadzada, Mammadova, Beydullayeva, Balajayev...</td>\n",
       "      <td>2399</td>\n",
       "      <td>16</td>\n",
       "      <td>389.0</td>\n",
       "    </tr>\n",
       "    <tr>\n",
       "      <th>7</th>\n",
       "      <td>8.0</td>\n",
       "      <td>India-2</td>\n",
       "      <td>Agrawal, Rout, Soumya, Gomes, Deshmukh</td>\n",
       "      <td>2351</td>\n",
       "      <td>16</td>\n",
       "      <td>369.5</td>\n",
       "    </tr>\n",
       "    <tr>\n",
       "      <th>8</th>\n",
       "      <td>9.0</td>\n",
       "      <td>Bulgaria</td>\n",
       "      <td>Salimova, Peycheva, Krasteva, Antova, Radeva</td>\n",
       "      <td>2319</td>\n",
       "      <td>16</td>\n",
       "      <td>361.0</td>\n",
       "    </tr>\n",
       "    <tr>\n",
       "      <th>9</th>\n",
       "      <td>10.0</td>\n",
       "      <td>Germany</td>\n",
       "      <td>Pähtz, Heinemann, Klek, Wagner, Schneider</td>\n",
       "      <td>2383</td>\n",
       "      <td>16</td>\n",
       "      <td>344.5</td>\n",
       "    </tr>\n",
       "  </tbody>\n",
       "</table>\n",
       "</div>"
      ],
      "text/plain": [
       "      #        Country                                            Players  \\\n",
       "0   NaN        Ukraine   M. Muzychuk, A. Muzychuk, Ushenina, Buksa, Osmak   \n",
       "1   NaN        Georgia  Dzagnidze, Batsiashvili, Javakhishvili, Melia,...   \n",
       "2   NaN          India         Humpy, Harika, Vaishali, Sachdev, Kulkarni   \n",
       "3   4.0  United States    Tokhirjonova, Krush, Yip, Zatonskih, Abrahamyan   \n",
       "4   5.0     Kazakhstan  Abdumalik, Assaubayeva, Balabayeva, Nakhbayeva...   \n",
       "5   6.0         Poland  Kashlinskaya, Soćko, Kiołbasa, Malicka, Rudzińska   \n",
       "6   7.0     Azerbaijan  Mammadzada, Mammadova, Beydullayeva, Balajayev...   \n",
       "7   8.0        India-2             Agrawal, Rout, Soumya, Gomes, Deshmukh   \n",
       "8   9.0       Bulgaria       Salimova, Peycheva, Krasteva, Antova, Radeva   \n",
       "9  10.0        Germany          Pähtz, Heinemann, Klek, Wagner, Schneider   \n",
       "\n",
       "   Average rating  MP   dSB‡  \n",
       "0            2478  18  413.5  \n",
       "1            2475  18  392.0  \n",
       "2            2486  17  396.5  \n",
       "3            2390  17  390.0  \n",
       "4            2365  17  352.0  \n",
       "5            2423  16  396.0  \n",
       "6            2399  16  389.0  \n",
       "7            2351  16  369.5  \n",
       "8            2319  16  361.0  \n",
       "9            2383  16  344.5  "
      ]
     },
     "execution_count": 15,
     "metadata": {},
     "output_type": "execute_result"
    }
   ],
   "source": [
    "table_df"
   ]
  },
  {
   "cell_type": "code",
   "execution_count": 16,
   "metadata": {},
   "outputs": [],
   "source": [
    "# get all html on the page\n",
    "html = driver.page_source"
   ]
  },
  {
   "cell_type": "code",
   "execution_count": null,
   "metadata": {},
   "outputs": [],
   "source": [
    "#html"
   ]
  },
  {
   "cell_type": "code",
   "execution_count": null,
   "id": "6dcfabdc",
   "metadata": {},
   "outputs": [],
   "source": [
    "driver.quit()"
   ]
  },
  {
   "cell_type": "code",
   "execution_count": null,
   "id": "42b853f9-deb1-43b2-9fdd-f454899aab8a",
   "metadata": {},
   "outputs": [],
   "source": []
  },
  {
   "cell_type": "code",
   "execution_count": null,
   "metadata": {},
   "outputs": [],
   "source": []
  }
 ],
 "metadata": {
  "kernelspec": {
   "display_name": "Python 3 (ipykernel)",
   "language": "python",
   "name": "python3"
  }
 },
 "nbformat": 4,
 "nbformat_minor": 5
}
